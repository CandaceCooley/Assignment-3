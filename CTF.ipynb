{
  "nbformat": 4,
  "nbformat_minor": 0,
  "metadata": {
    "colab": {
      "provenance": [],
      "authorship_tag": "ABX9TyOimKeRatv6QzvZSHKdKbxo",
      "include_colab_link": true
    },
    "kernelspec": {
      "name": "python3",
      "display_name": "Python 3"
    },
    "language_info": {
      "name": "python"
    }
  },
  "cells": [
    {
      "cell_type": "markdown",
      "metadata": {
        "id": "view-in-github",
        "colab_type": "text"
      },
      "source": [
        "<a href=\"https://colab.research.google.com/github/CandaceCooley/Assignment-3/blob/main/CTF.ipynb\" target=\"_parent\"><img src=\"https://colab.research.google.com/assets/colab-badge.svg\" alt=\"Open In Colab\"/></a>"
      ]
    },
    {
      "cell_type": "code",
      "execution_count": 1,
      "metadata": {
        "colab": {
          "base_uri": "https://localhost:8080/"
        },
        "id": "fTpVdqtOEPWn",
        "outputId": "e4e5b126-fe09-49e9-8e91-0dc0f877cbae"
      },
      "outputs": [
        {
          "output_type": "stream",
          "name": "stdout",
          "text": [
            "Requirement already satisfied: pyspark in /usr/local/lib/python3.11/dist-packages (3.5.5)\n",
            "Requirement already satisfied: py4j==0.10.9.7 in /usr/local/lib/python3.11/dist-packages (from pyspark) (0.10.9.7)\n"
          ]
        }
      ],
      "source": [
        "!pip install pyspark"
      ]
    },
    {
      "cell_type": "code",
      "source": [
        "from pyspark import SparkContext, SparkConf\n",
        "from math import log10, sqrt\n",
        "import re"
      ],
      "metadata": {
        "id": "yIPFWILyFkCR"
      },
      "execution_count": 2,
      "outputs": []
    },
    {
      "cell_type": "code",
      "source": [
        "conf = SparkConf().setAppName(\"CosineNormalizedTF\").setMaster(\"local\")\n",
        "sc = SparkContext.getOrCreate(conf)"
      ],
      "metadata": {
        "id": "eja0gJO6Fmpg"
      },
      "execution_count": 3,
      "outputs": []
    },
    {
      "cell_type": "code",
      "source": [
        "input_file = \"/content/Assignment3_Data.txt\"\n",
        "output_path = \"/content/CTF_index\""
      ],
      "metadata": {
        "id": "1ZBH4ATpFpM-"
      },
      "execution_count": 4,
      "outputs": []
    },
    {
      "cell_type": "code",
      "source": [
        "def clean_and_split(line):\n",
        "    line = line.lower()\n",
        "    words = re.findall(r'\\b[a-z]+\\b', line)\n",
        "    return words"
      ],
      "metadata": {
        "id": "Yng1F-aEFs8s"
      },
      "execution_count": 5,
      "outputs": []
    },
    {
      "cell_type": "code",
      "source": [
        "def extract_word_doc_pairs(line):\n",
        "    if \":\" in line:\n",
        "        doc_id, text = line.split(\":\", 1)\n",
        "        words = clean_and_split(text)\n",
        "        return [((word, doc_id), 1) for word in words]\n",
        "    else:\n",
        "        return []"
      ],
      "metadata": {
        "id": "GwZDGpz1Fvxe"
      },
      "execution_count": 6,
      "outputs": []
    },
    {
      "cell_type": "code",
      "source": [
        "fileRDD = sc.textFile(input_file)"
      ],
      "metadata": {
        "id": "GuYuhVD4Fymf"
      },
      "execution_count": 7,
      "outputs": []
    },
    {
      "cell_type": "code",
      "source": [
        "word_doc_freq = fileRDD.flatMap(extract_word_doc_pairs) \\\n",
        "                       .reduceByKey(lambda a, b: a + b)"
      ],
      "metadata": {
        "id": "6_dDgr_rF07c"
      },
      "execution_count": 8,
      "outputs": []
    },
    {
      "cell_type": "code",
      "source": [
        "log_weighted_tf = word_doc_freq.mapValues(lambda tf: round(1 + log10(tf), 4))"
      ],
      "metadata": {
        "id": "F7KtUzNNF3pZ"
      },
      "execution_count": 9,
      "outputs": []
    },
    {
      "cell_type": "code",
      "source": [
        "doc_tf_squared = log_weighted_tf.map(lambda x: (x[0][1], x[1] ** 2))\n",
        "\n",
        "\n",
        "doc_norms = doc_tf_squared.reduceByKey(lambda a, b: a + b) \\\n",
        "                          .mapValues(lambda sum_sq: round(sqrt(sum_sq), 4))"
      ],
      "metadata": {
        "id": "lpm6R0v-F8Xh"
      },
      "execution_count": 10,
      "outputs": []
    },
    {
      "cell_type": "code",
      "source": [
        "doc_norms_dict = dict(doc_norms.collect())  # Broadcastable size\n",
        "broadcast_norms = sc.broadcast(doc_norms_dict)\n",
        "\n",
        "\n",
        "normalized_tf = log_weighted_tf.map(lambda x: (x[0][0], (x[0][1], round(x[1] / broadcast_norms.value[x[0][1]], 4))))"
      ],
      "metadata": {
        "id": "1qOMrFmwGBc0"
      },
      "execution_count": 11,
      "outputs": []
    },
    {
      "cell_type": "code",
      "source": [
        "grouped_index = normalized_tf.groupByKey().mapValues(list)"
      ],
      "metadata": {
        "id": "GOP6KMzEGISE"
      },
      "execution_count": 12,
      "outputs": []
    },
    {
      "cell_type": "code",
      "source": [
        "def format_index(entry):\n",
        "    word, postings = entry\n",
        "    postings_str = '+'.join([f\"{doc}#{score}\" for doc, score in postings])\n",
        "    return f\"{word}@{postings_str}\"\n",
        "\n",
        "formatted_index = grouped_index.map(format_index)"
      ],
      "metadata": {
        "id": "x1zWZjvRGKy8"
      },
      "execution_count": 13,
      "outputs": []
    },
    {
      "cell_type": "code",
      "source": [
        "import shutil\n",
        "shutil.rmtree(output_path, ignore_errors=True)\n",
        "formatted_index.saveAsTextFile(output_path)\n",
        "\n",
        "sc.stop()"
      ],
      "metadata": {
        "id": "CUuVPNxpGNjh"
      },
      "execution_count": 14,
      "outputs": []
    }
  ]
}