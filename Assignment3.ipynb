{
  "nbformat": 4,
  "nbformat_minor": 0,
  "metadata": {
    "colab": {
      "provenance": [],
      "mount_file_id": "10CvB8A54Hl48GIHj4xi8Y5P00j7kJWvv",
      "authorship_tag": "ABX9TyPnhQfogqUVCRgIyNo44Nbh",
      "include_colab_link": true
    },
    "kernelspec": {
      "name": "python3",
      "display_name": "Python 3"
    },
    "language_info": {
      "name": "python"
    }
  },
  "cells": [
    {
      "cell_type": "markdown",
      "metadata": {
        "id": "view-in-github",
        "colab_type": "text"
      },
      "source": [
        "<a href=\"https://colab.research.google.com/github/CandaceCooley/Assignment-3/blob/main/Assignment3.ipynb\" target=\"_parent\"><img src=\"https://colab.research.google.com/assets/colab-badge.svg\" alt=\"Open In Colab\"/></a>"
      ]
    },
    {
      "cell_type": "code",
      "source": [
        "!pip install pyspark"
      ],
      "metadata": {
        "id": "dMya54zMGN1y",
        "colab": {
          "base_uri": "https://localhost:8080/"
        },
        "outputId": "f3feaa70-456d-44f8-d0f1-3acefd9210df"
      },
      "execution_count": null,
      "outputs": [
        {
          "output_type": "stream",
          "name": "stdout",
          "text": [
            "Requirement already satisfied: pyspark in /usr/local/lib/python3.11/dist-packages (3.5.5)\n",
            "Requirement already satisfied: py4j==0.10.9.7 in /usr/local/lib/python3.11/dist-packages (from pyspark) (0.10.9.7)\n"
          ]
        }
      ]
    },
    {
      "cell_type": "code",
      "source": [
        "import sys\n",
        "\n",
        "from pyspark import SparkContext, SparkConf"
      ],
      "metadata": {
        "id": "uORO7khkekBp"
      },
      "execution_count": null,
      "outputs": []
    },
    {
      "cell_type": "code",
      "source": [
        "# create Spark context with necessary configuration\n",
        "conf = SparkConf()\n",
        "conf.setMaster('local')\n",
        "conf.setAppName('WordCount')\n",
        "sc = SparkContext.getOrCreate(conf=conf)\n"
      ],
      "metadata": {
        "id": "QWPRGo_Wy5Ax"
      },
      "execution_count": null,
      "outputs": []
    },
    {
      "cell_type": "code",
      "source": [
        "file1 = '/content/Assignment3_Data.txt'"
      ],
      "metadata": {
        "id": "4cfSdQjIeqDT"
      },
      "execution_count": null,
      "outputs": []
    },
    {
      "cell_type": "markdown",
      "source": [
        "Step 1:"
      ],
      "metadata": {
        "id": "Gh9D6trdRpyq"
      }
    },
    {
      "cell_type": "code",
      "source": [
        "# Example Spark application for a simple wordcount\n",
        "# What is wordcount?\n",
        "    # Given a file, count the frequency of all words appearing in that file\n",
        "\n",
        "# Step-1: Read the required file. In our case it is file1 or file2.\n",
        "# NOTE: We do not need to initialize SparkContext as only one SparkContext can be initialized in one notebook\n",
        "fileRDD = sc.textFile(file1)\n",
        "\n",
        "# Step-2:\n",
        "    # Each line in our file(s) is a sentence. So, we need to split the sentence with ' ' to get words\n",
        "    # Using map() will return RDD[list]. But we need RDD[string]. So we use flatMap()\n",
        "wordsRDD = fileRDD.flatMap(lambda line: line.split(\" \")) # <----------- TEST what happens when you use map()\n",
        "\n",
        "# Step-3: For each input, we will make (K,V) pair, where K is the word and V is 1\n",
        "pairRDD = wordsRDD.map(lambda word: (word,1))\n",
        "\n",
        "# Step-4: Now we have to sum all 1's of each word\n",
        "# NOTE: A word may present in multiple data partitions. So we use reduceByKey() to group by key and perform sum\n",
        "countRDD = pairRDD.reduceByKey(lambda a,b: a+b)\n",
        "\n",
        "#Step-5: Save results in a text file\n",
        "countRDD.saveAsTextFile('/content/wordcount1') # <----------- GIVE FILE PATH"
      ],
      "metadata": {
        "id": "nfsGzD695-TI"
      },
      "execution_count": null,
      "outputs": []
    },
    {
      "cell_type": "code",
      "source": [
        "# Define a function to preprocess words\n",
        "import re # Import the 're' module for regular expressions\n",
        "\n",
        "def clean_and_split(line):\n",
        "    # Convert to lowercase\n",
        "    line = line.lower()\n",
        "    # Remove non-alphabetic characters using regex, keep only English words\n",
        "    words = re.findall(r'\\b[a-z]+\\b', line)\n",
        "    return words\n",
        "\n",
        "# Apply preprocessing\n",
        "wordsRDD = fileRDD.flatMap(clean_and_split)\n",
        "\n",
        "# Map to (word, 1)\n",
        "pairRDD = wordsRDD.map(lambda word: (word, 1))\n",
        "\n",
        "# Reduce by key to count\n",
        "countRDD = pairRDD.reduceByKey(lambda a, b: a + b)\n",
        "\n",
        "# Save output\n",
        "output_path = '/content/wordcount_cleaned2'\n",
        "countRDD.saveAsTextFile(output_path)\n",
        "\n"
      ],
      "metadata": {
        "id": "ByeROXUTncYS"
      },
      "execution_count": null,
      "outputs": []
    },
    {
      "cell_type": "markdown",
      "source": [
        "Step 2:"
      ],
      "metadata": {
        "id": "Kte3lIZqRr5c"
      }
    },
    {
      "cell_type": "code",
      "source": [
        "from math import log10\n",
        "\n",
        "# Apply preprocessing (from previous cell)\n",
        "wordsRDD = fileRDD.flatMap(clean_and_split)\n",
        "\n",
        "# Map to (word, 1) (from previous cell)\n",
        "pairRDD = wordsRDD.map(lambda word: (word, 1))\n",
        "\n",
        "# Reduce by key to count (from previous cell)\n",
        "countRDD = pairRDD.reduceByKey(lambda a, b: a + b)\n",
        "\n",
        "# Save output (from previous cell)\n",
        "output_path = '/content/wordcount_cleaned3'\n",
        "!rm -rf $output_path  # Remove the existing directory\n",
        "countRDD.saveAsTextFile(output_path)\n",
        "\n",
        "# Remove sc.stop() from previous cell - keep the Spark context running\n",
        "\n",
        "def extract_word_doc_pairs(line):\n",
        "    if \":\" in line:\n",
        "        doc_id, text = line.split(\":\", 1)  # Assuming doc_id is separated by \":\"\n",
        "        words = text.lower().split()  # Split into words\n",
        "        return [(word, doc_id) for word in words]\n",
        "    else:\n",
        "        # Handle lines without a colon (e.g., skip them or assign a default doc_id)\n",
        "        return []  # Skip lines without a colon #Fixed indentation for this line\n",
        "\n",
        "word_doc_pairs = fileRDD.flatMap(extract_word_doc_pairs)\n",
        "\n",
        "# Count frequency of each (word, doc_id)\n",
        "word_doc_freq = word_doc_pairs.map(lambda x: ((x[0], x[1]), 1)) \\\n",
        "                               .reduceByKey(lambda a, b: a + b)\n",
        "\n",
        "# Log-weighted TF\n",
        "log_weighted_tf = word_doc_freq.map(lambda x: (x[0][0], (x[0][1], round(1 + log10(x[1]), 3))))\n",
        "\n",
        "# Group by word\n",
        "tf_index = log_weighted_tf.groupByKey().mapValues(list)\n",
        "\n",
        "# Convert to string format\n",
        "def format_index(entry):\n",
        "    word, postings = entry\n",
        "    postings_str = '+'.join([f\"{doc}#{tf}\" for doc, tf in postings])\n",
        "    return f\"{word}@{postings_str}\"\n",
        "\n",
        "tf_index_strings = tf_index.map(format_index)\n",
        "\n",
        "# Save to TF_index directory\n",
        "tf_index_strings.saveAsTextFile(\"/content/TF_index1\")\n",
        "\n"
      ],
      "metadata": {
        "id": "lZmswtAbCvOt"
      },
      "execution_count": null,
      "outputs": []
    }
  ]
}