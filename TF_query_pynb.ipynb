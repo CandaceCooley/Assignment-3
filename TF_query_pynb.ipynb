{
  "nbformat": 4,
  "nbformat_minor": 0,
  "metadata": {
    "colab": {
      "provenance": [],
      "authorship_tag": "ABX9TyP4LYIlHoLOuiMR0Vc1scCx",
      "include_colab_link": true
    },
    "kernelspec": {
      "name": "python3",
      "display_name": "Python 3"
    },
    "language_info": {
      "name": "python"
    }
  },
  "cells": [
    {
      "cell_type": "markdown",
      "metadata": {
        "id": "view-in-github",
        "colab_type": "text"
      },
      "source": [
        "<a href=\"https://colab.research.google.com/github/CandaceCooley/Assignment-3/blob/main/TF_query_pynb.ipynb\" target=\"_parent\"><img src=\"https://colab.research.google.com/assets/colab-badge.svg\" alt=\"Open In Colab\"/></a>"
      ]
    },
    {
      "cell_type": "code",
      "source": [
        "!pip install pyspark"
      ],
      "metadata": {
        "colab": {
          "base_uri": "https://localhost:8080/"
        },
        "id": "GR1mGzJqCpfk",
        "outputId": "98edd334-a727-466d-bf42-257ee3122f3e"
      },
      "execution_count": 1,
      "outputs": [
        {
          "output_type": "stream",
          "name": "stdout",
          "text": [
            "Requirement already satisfied: pyspark in /usr/local/lib/python3.11/dist-packages (3.5.5)\n",
            "Requirement already satisfied: py4j==0.10.9.7 in /usr/local/lib/python3.11/dist-packages (from pyspark) (0.10.9.7)\n"
          ]
        }
      ]
    },
    {
      "cell_type": "code",
      "execution_count": 2,
      "metadata": {
        "id": "BcFtlDbjB53u"
      },
      "outputs": [],
      "source": [
        "from pyspark import SparkContext, SparkConf\n",
        "import re\n",
        "import sys\n",
        "import os"
      ]
    },
    {
      "cell_type": "code",
      "source": [
        "# Paths — UPDATE if needed\n",
        "tf_index_path = \"TF_index\"\n",
        "query_file_path = \"query.txt\"\n",
        "output_dir = \"Task1Output\""
      ],
      "metadata": {
        "id": "C161tYarCHFk"
      },
      "execution_count": 3,
      "outputs": []
    },
    {
      "cell_type": "code",
      "source": [
        "conf = SparkConf().setAppName(\"TF_Query\").setMaster(\"local\")\n",
        "sc = SparkContext(conf=conf)"
      ],
      "metadata": {
        "id": "51aVdb_ACIAE"
      },
      "execution_count": 4,
      "outputs": []
    },
    {
      "cell_type": "code",
      "source": [
        "stop_words = set([\n",
        "    \"the\", \"is\", \"in\", \"and\", \"to\", \"of\", \"a\", \"with\", \"on\", \"for\", \"as\", \"at\",\n",
        "    \"by\", \"an\", \"this\", \"that\", \"from\", \"are\", \"be\", \"or\", \"was\", \"it\"\n",
        "])\n",
        "broadcast_stopwords = sc.broadcast(stop_words)"
      ],
      "metadata": {
        "id": "bxrK3n0HCIXL"
      },
      "execution_count": 5,
      "outputs": []
    },
    {
      "cell_type": "code",
      "source": [
        "def preprocess_query(text):\n",
        "    text = text.lower()\n",
        "    text = re.sub(r\"(https?://\\S+|www\\.\\S+)\", \"\", text)              # Remove URLs\n",
        "    text = re.sub(r\"[^a-z\\s]\", \" \", text)                            # Remove non-alphabetic\n",
        "    words = text.split()\n",
        "    return [word for word in words if word not in broadcast_stopwords.value and len(word) > 1]"
      ],
      "metadata": {
        "id": "esDG-bWFCRe8"
      },
      "execution_count": 6,
      "outputs": []
    },
    {
      "cell_type": "code",
      "source": [
        "# Load the saved index from TF_index directory\n",
        "index_rdd = sc.textFile(tf_index_path)\n",
        "\n",
        "# Convert each line back into a dictionary-like structure\n",
        "# Example: pirate@123#1.3+456#2.0 → (\"pirate\", [(123, 1.3), (456, 2.0)])\n",
        "def parse_line(line):\n",
        "    try:\n",
        "        word, postings_str = line.split('@')\n",
        "        postings = [(doc.split('#')[0], float(doc.split('#')[1])) for doc in postings_str.split('+')]\n",
        "        return (word, postings)\n",
        "    except:\n",
        "        return (\"\", [])  # Skip malformed lines\n",
        "\n",
        "parsed_index = index_rdd.map(parse_line).filter(lambda x: x[0] != \"\")"
      ],
      "metadata": {
        "id": "cXFJM5AyCSRn"
      },
      "execution_count": 7,
      "outputs": []
    },
    {
      "cell_type": "code",
      "source": [
        "with open(query_file_path, 'r') as f:\n",
        "    raw_query = f.read()\n",
        "\n",
        "query_words = preprocess_query(raw_query)\n"
      ],
      "metadata": {
        "id": "yIGj1dkeCV6l"
      },
      "execution_count": 8,
      "outputs": []
    },
    {
      "cell_type": "code",
      "source": [
        "# Filter index RDD: only keep words present in query\n",
        "filtered = parsed_index.filter(lambda x: x[0] in query_words)\n",
        "\n",
        "# Flatten postings: convert to (docID, freq) pairs\n",
        "doc_freq_pairs = filtered.flatMap(lambda x: x[1])\n",
        "\n",
        "# Aggregate scores per document\n",
        "doc_scores = doc_freq_pairs.reduceByKey(lambda a, b: a + b)\n",
        "\n",
        "# Sort by frequency (weight), descending\n",
        "top_docs = doc_scores.sortBy(lambda x: -x[1]).take(10)"
      ],
      "metadata": {
        "id": "Qbhg9dNCCdnX"
      },
      "execution_count": 9,
      "outputs": []
    },
    {
      "cell_type": "code",
      "source": [
        "# Convert to RDD and save\n",
        "output_rdd = sc.parallelize(top_docs)\n",
        "output_rdd.saveAsTextFile(output_dir)"
      ],
      "metadata": {
        "id": "yhyh6_CCCiqO"
      },
      "execution_count": 10,
      "outputs": []
    }
  ]
}